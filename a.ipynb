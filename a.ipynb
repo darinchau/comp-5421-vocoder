{
 "cells": [
  {
   "cell_type": "code",
   "execution_count": 5,
   "id": "9d8152cd",
   "metadata": {},
   "outputs": [],
   "source": [
    "import os\n",
    "path = r\"C:\\Users\\user\\AppData\\Local\\Programs\\Python\\Python313\\python.exe\"\n",
    "\n",
    "path_on_external_disk = os.path.splitdrive(path)[0]"
   ]
  },
  {
   "cell_type": "code",
   "execution_count": 7,
   "id": "3465b514",
   "metadata": {},
   "outputs": [
    {
     "data": {
      "text/plain": [
       "[]"
      ]
     },
     "execution_count": 7,
     "metadata": {},
     "output_type": "execute_result"
    }
   ],
   "source": [
    "import psutil\n",
    "[d.device for d in psutil.disk_partitions() if 'removable' in d.opts]"
   ]
  }
 ],
 "metadata": {
  "kernelspec": {
   "display_name": ".venv",
   "language": "python",
   "name": "python3"
  },
  "language_info": {
   "codemirror_mode": {
    "name": "ipython",
    "version": 3
   },
   "file_extension": ".py",
   "mimetype": "text/x-python",
   "name": "python",
   "nbconvert_exporter": "python",
   "pygments_lexer": "ipython3",
   "version": "3.13.3"
  }
 },
 "nbformat": 4,
 "nbformat_minor": 5
}
